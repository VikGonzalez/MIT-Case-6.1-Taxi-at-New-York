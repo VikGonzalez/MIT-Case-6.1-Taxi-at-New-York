{
  "cells": [
    {
      "metadata": {
        "collapsed": true
      },
      "cell_type": "markdown",
      "source": [
        "# Case Study 6.1 - NYC Taxi Trips"
      ]
    },
    {
      "metadata": {},
      "cell_type": "markdown",
      "source": [
        "<h1 style=\"color:red;\">Note: If you close this notebook at any time, you will have to run all cells again upon re-opening it.</h1>\n",
        "\n",
        "<h1 style=\"color:red;\">Note: You may get different numerical results running the notebook different times. This is to be expected, you can just report whatever results you get.</h1>"
      ]
    },
    {
      "metadata": {},
      "cell_type": "markdown",
      "source": [
        "# ADVANCED PYTHON"
      ]
    },
    {
      "metadata": {},
      "cell_type": "markdown",
      "source": [
        "As this is an advanced version, we don't include a lot of code here. If you get stuck on a particular part, feel free to also use the beginner version in `beginnner_python.ipynb` to help you out.\n",
        "\n",
        "If you don't know your MITx username, you can create a test post [here](https://courses.xpro.mit.edu/courses/course-v1:xPRO+DSx+R11/discussion/forum/general/threads/5db91a5c59a54c4eb6000031) to find it."
      ]
    },
    {
      "metadata": {},
      "cell_type": "markdown",
      "source": [
        "# Identification Information"
      ]
    },
    {
      "metadata": {
        "trusted": true
      },
      "cell_type": "code",
      "source": [
        " #YOUR NAME              = Victor\n",
        " #YOUR MITX PRO USERNAME = VikGonzalez\n",
        " #YOUR MITX PRO E-MAIL   = victormgm@outlook.com"
      ],
      "execution_count": 5,
      "outputs": []
    },
    {
      "metadata": {},
      "cell_type": "markdown",
      "source": [
        "# Setup"
      ]
    },
    {
      "metadata": {},
      "cell_type": "markdown",
      "source": [
        "Run these cells to install all the packages you need to complete the remainder of the case study. This may take a few minutes, so please be patient.\n",
        "\n",
        "<h1 style=\"color:red;\">Note: You may see red errors when you run the cell below. As long as you can run the Import cell below and see \"Import successful!\", you can continue with the case study.</h1>"
      ]
    },
    {
      "cell_type": "code",
      "execution_count": null,
      "metadata": {},
      "outputs": [],
      "source": []
    },
    {
      "cell_type": "code",
      "execution_count": null,
      "metadata": {},
      "outputs": [],
      "source": []
    },
    {
      "metadata": {
        "trusted": true,
        "tags": [
          "outputPrepend"
        ]
      },
      "cell_type": "code",
      "source": [
        "!pip install --upgrade pip\n",
        "!pip install featuretools==0.1.19\n",
        "!pip install pandas==0.20.3"
      ],
      "execution_count": 8,
      "outputs": [
        {
          "output_type": "stream",
          "name": "stdout",
          "text": "o\\sas\\data\\test4.sas7bdat -&gt; build\\lib.win-amd64-3.8\\pandas\\tests\\io\\sas\\data\n  copying pandas\\tests\\io\\sas\\data\\test5.sas7bdat -&gt; build\\lib.win-amd64-3.8\\pandas\\tests\\io\\sas\\data\n  copying pandas\\tests\\io\\sas\\data\\test6.sas7bdat -&gt; build\\lib.win-amd64-3.8\\pandas\\tests\\io\\sas\\data\n  copying pandas\\tests\\io\\sas\\data\\test7.sas7bdat -&gt; build\\lib.win-amd64-3.8\\pandas\\tests\\io\\sas\\data\n  copying pandas\\tests\\io\\sas\\data\\test8.sas7bdat -&gt; build\\lib.win-amd64-3.8\\pandas\\tests\\io\\sas\\data\n  copying pandas\\tests\\io\\sas\\data\\test9.sas7bdat -&gt; build\\lib.win-amd64-3.8\\pandas\\tests\\io\\sas\\data\n  copying pandas\\tests\\io\\sas\\data\\test_12659.sas7bdat -&gt; build\\lib.win-amd64-3.8\\pandas\\tests\\io\\sas\\data\n  copying pandas\\tests\\io\\data\\banklist.html -&gt; build\\lib.win-amd64-3.8\\pandas\\tests\\io\\data\n  copying pandas\\tests\\io\\data\\computer_sales_page.html -&gt; build\\lib.win-amd64-3.8\\pandas\\tests\\io\\data\n  copying pandas\\tests\\io\\data\\macau.html -&gt; build\\lib.win-amd64-3.8\\pandas\\tests\\io\\data\n  copying pandas\\tests\\io\\data\\nyse_wsj.html -&gt; build\\lib.win-amd64-3.8\\pandas\\tests\\io\\data\n  copying pandas\\tests\\io\\data\\spam.html -&gt; build\\lib.win-amd64-3.8\\pandas\\tests\\io\\data\n  copying pandas\\tests\\io\\data\\valid_markup.html -&gt; build\\lib.win-amd64-3.8\\pandas\\tests\\io\\data\n  copying pandas\\tests\\io\\data\\wikipedia_states.html -&gt; build\\lib.win-amd64-3.8\\pandas\\tests\\io\\data\n  creating build\\lib.win-amd64-3.8\\pandas\\tests\\io\\data\\html_encoding\n  copying pandas\\tests\\io\\data\\html_encoding\\chinese_utf-16.html -&gt; build\\lib.win-amd64-3.8\\pandas\\tests\\io\\data\\html_encoding\n  copying pandas\\tests\\io\\data\\html_encoding\\chinese_utf-32.html -&gt; build\\lib.win-amd64-3.8\\pandas\\tests\\io\\data\\html_encoding\n  copying pandas\\tests\\io\\data\\html_encoding\\chinese_utf-8.html -&gt; build\\lib.win-amd64-3.8\\pandas\\tests\\io\\data\\html_encoding\n  copying pandas\\tests\\io\\data\\html_encoding\\letz_latin1.html -&gt; build\\lib.win-amd64-3.8\\pandas\\tests\\io\\data\\html_encoding\n  creating build\\lib.win-amd64-3.8\\pandas\\tests\\io\\json\\data\n  copying pandas\\tests\\io\\json\\data\\tsframe_iso_v012.json -&gt; build\\lib.win-amd64-3.8\\pandas\\tests\\io\\json\\data\n  copying pandas\\tests\\io\\json\\data\\tsframe_v012.json -&gt; build\\lib.win-amd64-3.8\\pandas\\tests\\io\\json\\data\n  creating build\\lib.win-amd64-3.8\\pandas\\tests\\io\\formats\\data\n  copying pandas\\tests\\io\\formats\\data\\unicode_series.csv -&gt; build\\lib.win-amd64-3.8\\pandas\\tests\\io\\formats\\data\n  creating build\\lib.win-amd64-3.8\\pandas\\tests\\tseries\\data\n  copying pandas\\tests\\tseries\\data\\cday-0.14.1.pickle -&gt; build\\lib.win-amd64-3.8\\pandas\\tests\\tseries\\data\n  copying pandas\\tests\\tseries\\data\\dateoffset_0_15_2.pickle -&gt; build\\lib.win-amd64-3.8\\pandas\\tests\\tseries\\data\n  UPDATING build\\lib.win-amd64-3.8\\pandas/_version.py\n  set build\\lib.win-amd64-3.8\\pandas/_version.py to &#39;0.20.3&#39;\n  running build_ext\n  cythoning pandas\\_libs/lib.pyx to pandas\\_libs\\lib.c\n  warning: pandas/_libs/src\\util.pxd:6:33: Declarations should not be declared inline.\n  warning: pandas/_libs/src\\util.pxd:7:40: Declarations should not be declared inline.\n  warning: pandas/_libs/src\\util.pxd:9:32: Declarations should not be declared inline.\n  warning: pandas/_libs/src\\util.pxd:10:30: Declarations should not be declared inline.\n  warning: pandas/_libs/src\\util.pxd:11:32: Declarations should not be declared inline.\n  warning: pandas/_libs/src\\util.pxd:12:29: Declarations should not be declared inline.\n  warning: pandas/_libs/src\\util.pxd:13:31: Declarations should not be declared inline.\n  warning: pandas/_libs/src\\util.pxd:14:35: Declarations should not be declared inline.\n  warning: pandas/_libs/src\\util.pxd:15:36: Declarations should not be declared inline.\n  warning: pandas/_libs/src\\util.pxd:16:30: Declarations should not be declared inline.\n  warning: pandas/_libs/src\\util.pxd:17:30: Declarations should not be declared inline.\n  warning: pandas/_libs/src\\util.pxd:18:30: Declarations should not be declared inline.\n  warning: pandas/_libs/src\\util.pxd:19:23: Declarations should not be declared inline.\n  warning: pandas/_libs/src\\util.pxd:20:16: Declarations should not be declared inline.\n  warning: pandas/_libs/src\\util.pxd:21:32: Declarations should not be declared inline.\n  warning: pandas/_libs/src\\util.pxd:22:38: Declarations should not be declared inline.\n  warning: pandas/_libs/src\\util.pxd:25:34: Declarations should not be declared inline.\n  warning: pandas/_libs/src\\inference.pyx:909:23: Declarations should not be declared inline.\n  cythoning pandas\\_libs/hashtable.pyx to pandas\\_libs\\hashtable.c\n  warning: pandas/_libs/src\\khash.pxd:14:21: Declarations should not be declared inline.\n  warning: pandas/_libs/src\\khash.pxd:15:32: Declarations should not be declared inline.\n  warning: pandas/_libs/src\\khash.pxd:16:30: Declarations should not be declared inline.\n  warning: pandas/_libs/src\\khash.pxd:17:31: Declarations should not be declared inline.\n  warning: pandas/_libs/src\\khash.pxd:18:31: Declarations should not be declared inline.\n  warning: pandas/_libs/src\\khash.pxd:19:31: Declarations should not be declared inline.\n  warning: pandas/_libs/src\\khash.pxd:20:28: Declarations should not be declared inline.\n  warning: pandas/_libs/src\\khash.pxd:30:21: Declarations should not be declared inline.\n  warning: pandas/_libs/src\\khash.pxd:31:32: Declarations should not be declared inline.\n  warning: pandas/_libs/src\\khash.pxd:32:30: Declarations should not be declared inline.\n  warning: pandas/_libs/src\\khash.pxd:33:31: Declarations should not be declared inline.\n  warning: pandas/_libs/src\\khash.pxd:34:31: Declarations should not be declared inline.\n  warning: pandas/_libs/src\\khash.pxd:35:31: Declarations should not be declared inline.\n  warning: pandas/_libs/src\\khash.pxd:36:28: Declarations should not be declared inline.\n  warning: pandas/_libs/src\\khash.pxd:48:19: Declarations should not be declared inline.\n  warning: pandas/_libs/src\\khash.pxd:49:30: Declarations should not be declared inline.\n  warning: pandas/_libs/src\\khash.pxd:50:28: Declarations should not be declared inline.\n  warning: pandas/_libs/src\\khash.pxd:51:29: Declarations should not be declared inline.\n  warning: pandas/_libs/src\\khash.pxd:52:29: Declarations should not be declared inline.\n  warning: pandas/_libs/src\\khash.pxd:53:29: Declarations should not be declared inline.\n  warning: pandas/_libs/src\\khash.pxd:54:26: Declarations should not be declared inline.\n  warning: pandas/_libs/src\\khash.pxd:64:21: Declarations should not be declared inline.\n  warning: pandas/_libs/src\\khash.pxd:65:32: Declarations should not be declared inline.\n  warning: pandas/_libs/src\\khash.pxd:66:30: Declarations should not be declared inline.\n  warning: pandas/_libs/src\\khash.pxd:67:31: Declarations should not be declared inline.\n  warning: pandas/_libs/src\\khash.pxd:68:31: Declarations should not be declared inline.\n  warning: pandas/_libs/src\\khash.pxd:69:31: Declarations should not be declared inline.\n  warning: pandas/_libs/src\\khash.pxd:70:28: Declarations should not be declared inline.\n  warning: pandas/_libs/src\\khash.pxd:82:22: Declarations should not be declared inline.\n  warning: pandas/_libs/src\\khash.pxd:83:33: Declarations should not be declared inline.\n  warning: pandas/_libs/src\\khash.pxd:84:31: Declarations should not be declared inline.\n  warning: pandas/_libs/src\\khash.pxd:85:32: Declarations should not be declared inline.\n  warning: pandas/_libs/src\\khash.pxd:86:32: Declarations should not be declared inline.\n  warning: pandas/_libs/src\\khash.pxd:87:32: Declarations should not be declared inline.\n  warning: pandas/_libs/src\\khash.pxd:88:29: Declarations should not be declared inline.\n  warning: pandas/_libs/src\\khash.pxd:98:23: Declarations should not be declared inline.\n  warning: pandas/_libs/src\\khash.pxd:99:34: Declarations should not be declared inline.\n  warning: pandas/_libs/src\\khash.pxd:100:32: Declarations should not be declared inline.\n  warning: pandas/_libs/src\\khash.pxd:101:33: Declarations should not be declared inline.\n  warning: pandas/_libs/src\\khash.pxd:102:33: Declarations should not be declared inline.\n  warning: pandas/_libs/src\\khash.pxd:103:33: Declarations should not be declared inline.\n  warning: pandas/_libs/src\\khash.pxd:104:30: Declarations should not be declared inline.\n  warning: pandas/_libs/src\\khash.pxd:114:21: Declarations should not be declared inline.\n  warning: pandas/_libs/src\\khash.pxd:115:32: Declarations should not be declared inline.\n  warning: pandas/_libs/src\\khash.pxd:116:30: Declarations should not be declared inline.\n  warning: pandas/_libs/src\\khash.pxd:117:31: Declarations should not be declared inline.\n  warning: pandas/_libs/src\\khash.pxd:118:31: Declarations should not be declared inline.\n  warning: pandas/_libs/src\\khash.pxd:119:31: Declarations should not be declared inline.\n  warning: pandas/_libs/src\\khash.pxd:120:28: Declarations should not be declared inline.\n  warning: pandas/_libs/src\\khash.pxd:132:22: Declarations should not be declared inline.\n  warning: pandas/_libs/src\\khash.pxd:133:33: Declarations should not be declared inline.\n  warning: pandas/_libs/src\\khash.pxd:134:31: Declarations should not be declared inline.\n  warning: pandas/_libs/src\\khash.pxd:135:32: Declarations should not be declared inline.\n  warning: pandas/_libs/src\\khash.pxd:136:32: Declarations should not be declared inline.\n  warning: pandas/_libs/src\\khash.pxd:137:32: Declarations should not be declared inline.\n  warning: pandas/_libs/src\\khash.pxd:138:29: Declarations should not be declared inline.\n  warning: pandas/_libs/src\\util.pxd:6:33: Declarations should not be declared inline.\n  warning: pandas/_libs/src\\util.pxd:7:40: Declarations should not be declared inline.\n  warning: pandas/_libs/src\\util.pxd:9:32: Declarations should not be declared inline.\n  warning: pandas/_libs/src\\util.pxd:10:30: Declarations should not be declared inline.\n  warning: pandas/_libs/src\\util.pxd:11:32: Declarations should not be declared inline.\n  warning: pandas/_libs/src\\util.pxd:12:29: Declarations should not be declared inline.\n  warning: pandas/_libs/src\\util.pxd:13:31: Declarations should not be declared inline.\n  warning: pandas/_libs/src\\util.pxd:14:35: Declarations should not be declared inline.\n  warning: pandas/_libs/src\\util.pxd:15:36: Declarations should not be declared inline.\n  warning: pandas/_libs/src\\util.pxd:16:30: Declarations should not be declared inline.\n  warning: pandas/_libs/src\\util.pxd:17:30: Declarations should not be declared inline.\n  warning: pandas/_libs/src\\util.pxd:18:30: Declarations should not be declared inline.\n  warning: pandas/_libs/src\\util.pxd:19:23: Declarations should not be declared inline.\n  warning: pandas/_libs/src\\util.pxd:20:16: Declarations should not be declared inline.\n  warning: pandas/_libs/src\\util.pxd:21:32: Declarations should not be declared inline.\n  warning: pandas/_libs/src\\util.pxd:22:38: Declarations should not be declared inline.\n  warning: pandas/_libs/src\\util.pxd:25:34: Declarations should not be declared inline.\n  skipping &#39;pandas\\_libs\\tslib.c&#39; Cython extension (up-to-date)\n  skipping &#39;pandas\\_libs\\period.c&#39; Cython extension (up-to-date)\n  cythoning pandas\\_libs/index.pyx to pandas\\_libs\\index.c\n  warning: pandas/_libs/src\\util.pxd:6:33: Declarations should not be declared inline.\n  warning: pandas/_libs/src\\util.pxd:7:40: Declarations should not be declared inline.\n  warning: pandas/_libs/src\\util.pxd:9:32: Declarations should not be declared inline.\n  warning: pandas/_libs/src\\util.pxd:10:30: Declarations should not be declared inline.\n  warning: pandas/_libs/src\\util.pxd:11:32: Declarations should not be declared inline.\n  warning: pandas/_libs/src\\util.pxd:12:29: Declarations should not be declared inline.\n  warning: pandas/_libs/src\\util.pxd:13:31: Declarations should not be declared inline.\n  warning: pandas/_libs/src\\util.pxd:14:35: Declarations should not be declared inline.\n  warning: pandas/_libs/src\\util.pxd:15:36: Declarations should not be declared inline.\n  warning: pandas/_libs/src\\util.pxd:16:30: Declarations should not be declared inline.\n  warning: pandas/_libs/src\\util.pxd:17:30: Declarations should not be declared inline.\n  warning: pandas/_libs/src\\util.pxd:18:30: Declarations should not be declared inline.\n  warning: pandas/_libs/src\\util.pxd:19:23: Declarations should not be declared inline.\n  warning: pandas/_libs/src\\util.pxd:20:16: Declarations should not be declared inline.\n  warning: pandas/_libs/src\\util.pxd:21:32: Declarations should not be declared inline.\n  warning: pandas/_libs/src\\util.pxd:22:38: Declarations should not be declared inline.\n  warning: pandas/_libs/src\\util.pxd:25:34: Declarations should not be declared inline.\n  warning: pandas/_libs/src\\khash.pxd:14:21: Declarations should not be declared inline.\n  warning: pandas/_libs/src\\khash.pxd:15:32: Declarations should not be declared inline.\n  warning: pandas/_libs/src\\khash.pxd:16:30: Declarations should not be declared inline.\n  warning: pandas/_libs/src\\khash.pxd:17:31: Declarations should not be declared inline.\n  warning: pandas/_libs/src\\khash.pxd:18:31: Declarations should not be declared inline.\n  warning: pandas/_libs/src\\khash.pxd:19:31: Declarations should not be declared inline.\n  warning: pandas/_libs/src\\khash.pxd:20:28: Declarations should not be declared inline.\n  warning: pandas/_libs/src\\khash.pxd:30:21: Declarations should not be declared inline.\n  warning: pandas/_libs/src\\khash.pxd:31:32: Declarations should not be declared inline.\n  warning: pandas/_libs/src\\khash.pxd:32:30: Declarations should not be declared inline.\n  warning: pandas/_libs/src\\khash.pxd:33:31: Declarations should not be declared inline.\n  warning: pandas/_libs/src\\khash.pxd:34:31: Declarations should not be declared inline.\n  warning: pandas/_libs/src\\khash.pxd:35:31: Declarations should not be declared inline.\n  warning: pandas/_libs/src\\khash.pxd:36:28: Declarations should not be declared inline.\n  warning: pandas/_libs/src\\khash.pxd:48:19: Declarations should not be declared inline.\n  warning: pandas/_libs/src\\khash.pxd:49:30: Declarations should not be declared inline.\n  warning: pandas/_libs/src\\khash.pxd:50:28: Declarations should not be declared inline.\n  warning: pandas/_libs/src\\khash.pxd:51:29: Declarations should not be declared inline.\n  warning: pandas/_libs/src\\khash.pxd:52:29: Declarations should not be declared inline.\n  warning: pandas/_libs/src\\khash.pxd:53:29: Declarations should not be declared inline.\n  warning: pandas/_libs/src\\khash.pxd:54:26: Declarations should not be declared inline.\n  warning: pandas/_libs/src\\khash.pxd:64:21: Declarations should not be declared inline.\n  warning: pandas/_libs/src\\khash.pxd:65:32: Declarations should not be declared inline.\n  warning: pandas/_libs/src\\khash.pxd:66:30: Declarations should not be declared inline.\n  warning: pandas/_libs/src\\khash.pxd:67:31: Declarations should not be declared inline.\n  warning: pandas/_libs/src\\khash.pxd:68:31: Declarations should not be declared inline.\n  warning: pandas/_libs/src\\khash.pxd:69:31: Declarations should not be declared inline.\n  warning: pandas/_libs/src\\khash.pxd:70:28: Declarations should not be declared inline.\n  warning: pandas/_libs/src\\khash.pxd:82:22: Declarations should not be declared inline.\n  warning: pandas/_libs/src\\khash.pxd:83:33: Declarations should not be declared inline.\n  warning: pandas/_libs/src\\khash.pxd:84:31: Declarations should not be declared inline.\n  warning: pandas/_libs/src\\khash.pxd:85:32: Declarations should not be declared inline.\n  warning: pandas/_libs/src\\khash.pxd:86:32: Declarations should not be declared inline.\n  warning: pandas/_libs/src\\khash.pxd:87:32: Declarations should not be declared inline.\n  warning: pandas/_libs/src\\khash.pxd:88:29: Declarations should not be declared inline.\n  warning: pandas/_libs/src\\khash.pxd:98:23: Declarations should not be declared inline.\n  warning: pandas/_libs/src\\khash.pxd:99:34: Declarations should not be declared inline.\n  warning: pandas/_libs/src\\khash.pxd:100:32: Declarations should not be declared inline.\n  warning: pandas/_libs/src\\khash.pxd:101:33: Declarations should not be declared inline.\n  warning: pandas/_libs/src\\khash.pxd:102:33: Declarations should not be declared inline.\n  warning: pandas/_libs/src\\khash.pxd:103:33: Declarations should not be declared inline.\n  warning: pandas/_libs/src\\khash.pxd:104:30: Declarations should not be declared inline.\n  warning: pandas/_libs/src\\khash.pxd:114:21: Declarations should not be declared inline.\n  warning: pandas/_libs/src\\khash.pxd:115:32: Declarations should not be declared inline.\n  warning: pandas/_libs/src\\khash.pxd:116:30: Declarations should not be declared inline.\n  warning: pandas/_libs/src\\khash.pxd:117:31: Declarations should not be declared inline.\n  warning: pandas/_libs/src\\khash.pxd:118:31: Declarations should not be declared inline.\n  warning: pandas/_libs/src\\khash.pxd:119:31: Declarations should not be declared inline.\n  warning: pandas/_libs/src\\khash.pxd:120:28: Declarations should not be declared inline.\n  warning: pandas/_libs/src\\khash.pxd:132:22: Declarations should not be declared inline.\n  warning: pandas/_libs/src\\khash.pxd:133:33: Declarations should not be declared inline.\n  warning: pandas/_libs/src\\khash.pxd:134:31: Declarations should not be declared inline.\n  warning: pandas/_libs/src\\khash.pxd:135:32: Declarations should not be declared inline.\n  warning: pandas/_libs/src\\khash.pxd:136:32: Declarations should not be declared inline.\n  warning: pandas/_libs/src\\khash.pxd:137:32: Declarations should not be declared inline.\n  warning: pandas/_libs/src\\khash.pxd:138:29: Declarations should not be declared inline.\n  cythoning pandas\\_libs/algos.pyx to pandas\\_libs\\algos.c\n  warning: pandas/_libs/src\\util.pxd:6:33: Declarations should not be declared inline.\n  warning: pandas/_libs/src\\util.pxd:7:40: Declarations should not be declared inline.\n  warning: pandas/_libs/src\\util.pxd:9:32: Declarations should not be declared inline.\n  warning: pandas/_libs/src\\util.pxd:10:30: Declarations should not be declared inline.\n  warning: pandas/_libs/src\\util.pxd:11:32: Declarations should not be declared inline.\n  warning: pandas/_libs/src\\util.pxd:12:29: Declarations should not be declared inline.\n  warning: pandas/_libs/src\\util.pxd:13:31: Declarations should not be declared inline.\n  warning: pandas/_libs/src\\util.pxd:14:35: Declarations should not be declared inline.\n  warning: pandas/_libs/src\\util.pxd:15:36: Declarations should not be declared inline.\n  warning: pandas/_libs/src\\util.pxd:16:30: Declarations should not be declared inline.\n  warning: pandas/_libs/src\\util.pxd:17:30: Declarations should not be declared inline.\n  warning: pandas/_libs/src\\util.pxd:18:30: Declarations should not be declared inline.\n  warning: pandas/_libs/src\\util.pxd:19:23: Declarations should not be declared inline.\n  warning: pandas/_libs/src\\util.pxd:20:16: Declarations should not be declared inline.\n  warning: pandas/_libs/src\\util.pxd:21:32: Declarations should not be declared inline.\n  warning: pandas/_libs/src\\util.pxd:22:38: Declarations should not be declared inline.\n  warning: pandas/_libs/src\\util.pxd:25:34: Declarations should not be declared inline.\n  skipping &#39;pandas\\_libs\\groupby.c&#39; Cython extension (up-to-date)\n  cythoning pandas\\_libs/join.pyx to pandas\\_libs\\join.c\n  warning: pandas/_libs/src\\util.pxd:6:33: Declarations should not be declared inline.\n  warning: pandas/_libs/src\\util.pxd:7:40: Declarations should not be declared inline.\n  warning: pandas/_libs/src\\util.pxd:9:32: Declarations should not be declared inline.\n  warning: pandas/_libs/src\\util.pxd:10:30: Declarations should not be declared inline.\n  warning: pandas/_libs/src\\util.pxd:11:32: Declarations should not be declared inline.\n  warning: pandas/_libs/src\\util.pxd:12:29: Declarations should not be declared inline."
        }
      ]
    },
    {
      "metadata": {},
      "cell_type": "markdown",
      "source": [
        "# Import"
      ]
    },
    {
      "metadata": {
        "trusted": true,
        "tags": [
          "outputPrepend"
        ]
      },
      "cell_type": "code",
      "source": [
        "import featuretools as ft\n",
        "import matplotlib\n",
        "import numpy as np\n",
        "import pandas as pd\n",
        "import utils\n",
        "from featuretools.primitives import (Count, Day, Hour, Max, Mean, Median, Min,\n",
        "                                     Minute, Month, Std, Sum, Week, Weekday,\n",
        "                                     Weekend)\n",
        "from sklearn.ensemble import GradientBoostingRegressor\n",
        "from utils import (compute_features, feature_importances, load_nyc_taxi_data,\n",
        "                   preview)"
      ],
      "execution_count": 9,
      "outputs": [
        {
          "output_type": "stream",
          "name": "stderr",
          "text": "ed inline.\n    warning: pandas/_libs/src\\util.pxd:16:30: Declarations should not be declared inline.\n    warning: pandas/_libs/src\\util.pxd:17:30: Declarations should not be declared inline.\n    warning: pandas/_libs/src\\util.pxd:18:30: Declarations should not be declared inline.\n    warning: pandas/_libs/src\\util.pxd:19:23: Declarations should not be declared inline.\n    warning: pandas/_libs/src\\util.pxd:20:16: Declarations should not be declared inline.\n    warning: pandas/_libs/src\\util.pxd:21:32: Declarations should not be declared inline.\n    warning: pandas/_libs/src\\util.pxd:22:38: Declarations should not be declared inline.\n    warning: pandas/_libs/src\\util.pxd:25:34: Declarations should not be declared inline.\n    cythoning pandas\\_libs/interval.pyx to pandas\\_libs\\interval.c\n    warning: pandas/_libs/src\\util.pxd:6:33: Declarations should not be declared inline.\n    warning: pandas/_libs/src\\util.pxd:7:40: Declarations should not be declared inline.\n    warning: pandas/_libs/src\\util.pxd:9:32: Declarations should not be declared inline.\n    warning: pandas/_libs/src\\util.pxd:10:30: Declarations should not be declared inline.\n    warning: pandas/_libs/src\\util.pxd:11:32: Declarations should not be declared inline.\n    warning: pandas/_libs/src\\util.pxd:12:29: Declarations should not be declared inline.\n    warning: pandas/_libs/src\\util.pxd:13:31: Declarations should not be declared inline.\n    warning: pandas/_libs/src\\util.pxd:14:35: Declarations should not be declared inline.\n    warning: pandas/_libs/src\\util.pxd:15:36: Declarations should not be declared inline.\n    warning: pandas/_libs/src\\util.pxd:16:30: Declarations should not be declared inline.\n    warning: pandas/_libs/src\\util.pxd:17:30: Declarations should not be declared inline.\n    warning: pandas/_libs/src\\util.pxd:18:30: Declarations should not be declared inline.\n    warning: pandas/_libs/src\\util.pxd:19:23: Declarations should not be declared inline.\n    warning: pandas/_libs/src\\util.pxd:20:16: Declarations should not be declared inline.\n    warning: pandas/_libs/src\\util.pxd:21:32: Declarations should not be declared inline.\n    warning: pandas/_libs/src\\util.pxd:22:38: Declarations should not be declared inline.\n    warning: pandas/_libs/src\\util.pxd:25:34: Declarations should not be declared inline.\n    warning: pandas/_libs/src\\khash.pxd:14:21: Declarations should not be declared inline.\n    warning: pandas/_libs/src\\khash.pxd:15:32: Declarations should not be declared inline.\n    warning: pandas/_libs/src\\khash.pxd:16:30: Declarations should not be declared inline.\n    warning: pandas/_libs/src\\khash.pxd:17:31: Declarations should not be declared inline.\n    warning: pandas/_libs/src\\khash.pxd:18:31: Declarations should not be declared inline.\n    warning: pandas/_libs/src\\khash.pxd:19:31: Declarations should not be declared inline.\n    warning: pandas/_libs/src\\khash.pxd:20:28: Declarations should not be declared inline.\n    warning: pandas/_libs/src\\khash.pxd:30:21: Declarations should not be declared inline.\n    warning: pandas/_libs/src\\khash.pxd:31:32: Declarations should not be declared inline.\n    warning: pandas/_libs/src\\khash.pxd:32:30: Declarations should not be declared inline.\n    warning: pandas/_libs/src\\khash.pxd:33:31: Declarations should not be declared inline.\n    warning: pandas/_libs/src\\khash.pxd:34:31: Declarations should not be declared inline.\n    warning: pandas/_libs/src\\khash.pxd:35:31: Declarations should not be declared inline.\n    warning: pandas/_libs/src\\khash.pxd:36:28: Declarations should not be declared inline.\n    warning: pandas/_libs/src\\khash.pxd:48:19: Declarations should not be declared inline.\n    warning: pandas/_libs/src\\khash.pxd:49:30: Declarations should not be declared inline.\n    warning: pandas/_libs/src\\khash.pxd:50:28: Declarations should not be declared inline.\n    warning: pandas/_libs/src\\khash.pxd:51:29: Declarations should not be declared inline.\n    warning: pandas/_libs/src\\khash.pxd:52:29: Declarations should not be declared inline.\n    warning: pandas/_libs/src\\khash.pxd:53:29: Declarations should not be declared inline.\n    warning: pandas/_libs/src\\khash.pxd:54:26: Declarations should not be declared inline.\n    warning: pandas/_libs/src\\khash.pxd:64:21: Declarations should not be declared inline.\n    warning: pandas/_libs/src\\khash.pxd:65:32: Declarations should not be declared inline.\n    warning: pandas/_libs/src\\khash.pxd:66:30: Declarations should not be declared inline.\n    warning: pandas/_libs/src\\khash.pxd:67:31: Declarations should not be declared inline.\n    warning: pandas/_libs/src\\khash.pxd:68:31: Declarations should not be declared inline.\n    warning: pandas/_libs/src\\khash.pxd:69:31: Declarations should not be declared inline.\n    warning: pandas/_libs/src\\khash.pxd:70:28: Declarations should not be declared inline.\n    warning: pandas/_libs/src\\khash.pxd:82:22: Declarations should not be declared inline.\n    warning: pandas/_libs/src\\khash.pxd:83:33: Declarations should not be declared inline.\n    warning: pandas/_libs/src\\khash.pxd:84:31: Declarations should not be declared inline.\n    warning: pandas/_libs/src\\khash.pxd:85:32: Declarations should not be declared inline.\n    warning: pandas/_libs/src\\khash.pxd:86:32: Declarations should not be declared inline.\n    warning: pandas/_libs/src\\khash.pxd:87:32: Declarations should not be declared inline.\n    warning: pandas/_libs/src\\khash.pxd:88:29: Declarations should not be declared inline.\n    warning: pandas/_libs/src\\khash.pxd:98:23: Declarations should not be declared inline.\n    warning: pandas/_libs/src\\khash.pxd:99:34: Declarations should not be declared inline.\n    warning: pandas/_libs/src\\khash.pxd:100:32: Declarations should not be declared inline.\n    warning: pandas/_libs/src\\khash.pxd:101:33: Declarations should not be declared inline.\n    warning: pandas/_libs/src\\khash.pxd:102:33: Declarations should not be declared inline.\n    warning: pandas/_libs/src\\khash.pxd:103:33: Declarations should not be declared inline.\n    warning: pandas/_libs/src\\khash.pxd:104:30: Declarations should not be declared inline.\n    warning: pandas/_libs/src\\khash.pxd:114:21: Declarations should not be declared inline.\n    warning: pandas/_libs/src\\khash.pxd:115:32: Declarations should not be declared inline.\n    warning: pandas/_libs/src\\khash.pxd:116:30: Declarations should not be declared inline.\n    warning: pandas/_libs/src\\khash.pxd:117:31: Declarations should not be declared inline.\n    warning: pandas/_libs/src\\khash.pxd:118:31: Declarations should not be declared inline.\n    warning: pandas/_libs/src\\khash.pxd:119:31: Declarations should not be declared inline.\n    warning: pandas/_libs/src\\khash.pxd:120:28: Declarations should not be declared inline.\n    warning: pandas/_libs/src\\khash.pxd:132:22: Declarations should not be declared inline.\n    warning: pandas/_libs/src\\khash.pxd:133:33: Declarations should not be declared inline.\n    warning: pandas/_libs/src\\khash.pxd:134:31: Declarations should not be declared inline.\n    warning: pandas/_libs/src\\khash.pxd:135:32: Declarations should not be declared inline.\n    warning: pandas/_libs/src\\khash.pxd:136:32: Declarations should not be declared inline.\n    warning: pandas/_libs/src\\khash.pxd:137:32: Declarations should not be declared inline.\n    warning: pandas/_libs/src\\khash.pxd:138:29: Declarations should not be declared inline.\n    cythoning pandas\\_libs/window.pyx to pandas\\_libs\\window.c\n    warning: pandas/_libs/src\\util.pxd:6:33: Declarations should not be declared inline.\n    warning: pandas/_libs/src\\util.pxd:7:40: Declarations should not be declared inline.\n    warning: pandas/_libs/src\\util.pxd:9:32: Declarations should not be declared inline.\n    warning: pandas/_libs/src\\util.pxd:10:30: Declarations should not be declared inline.\n    warning: pandas/_libs/src\\util.pxd:11:32: Declarations should not be declared inline.\n    warning: pandas/_libs/src\\util.pxd:12:29: Declarations should not be declared inline.\n    warning: pandas/_libs/src\\util.pxd:13:31: Declarations should not be declared inline.\n    warning: pandas/_libs/src\\util.pxd:14:35: Declarations should not be declared inline.\n    warning: pandas/_libs/src\\util.pxd:15:36: Declarations should not be declared inline.\n    warning: pandas/_libs/src\\util.pxd:16:30: Declarations should not be declared inline.\n    warning: pandas/_libs/src\\util.pxd:17:30: Declarations should not be declared inline.\n    warning: pandas/_libs/src\\util.pxd:18:30: Declarations should not be declared inline.\n    warning: pandas/_libs/src\\util.pxd:19:23: Declarations should not be declared inline.\n    warning: pandas/_libs/src\\util.pxd:20:16: Declarations should not be declared inline.\n    warning: pandas/_libs/src\\util.pxd:21:32: Declarations should not be declared inline.\n    warning: pandas/_libs/src\\util.pxd:22:38: Declarations should not be declared inline.\n    warning: pandas/_libs/src\\util.pxd:25:34: Declarations should not be declared inline.\n    warning: pandas/_libs/src\\skiplist.pxd:17:21: Declarations should not be declared inline.\n    warning: pandas/_libs/src\\skiplist.pxd:18:32: Declarations should not be declared inline.\n    warning: pandas/_libs/src\\skiplist.pxd:19:30: Declarations should not be declared inline.\n    warning: pandas/_libs/src\\skiplist.pxd:20:30: Declarations should not be declared inline.\n    warning: pandas/_libs/src\\skiplist.pxd:21:30: Declarations should not be declared inline.\n    cythoning pandas\\_libs/parsers.pyx to pandas\\_libs\\parsers.c\n    warning: pandas/_libs/src\\util.pxd:6:33: Declarations should not be declared inline.\n    warning: pandas/_libs/src\\util.pxd:7:40: Declarations should not be declared inline.\n    warning: pandas/_libs/src\\util.pxd:9:32: Declarations should not be declared inline.\n    warning: pandas/_libs/src\\util.pxd:10:30: Declarations should not be declared inline.\n    warning: pandas/_libs/src\\util.pxd:11:32: Declarations should not be declared inline.\n    warning: pandas/_libs/src\\util.pxd:12:29: Declarations should not be declared inline.\n    warning: pandas/_libs/src\\util.pxd:13:31: Declarations should not be declared inline.\n    warning: pandas/_libs/src\\util.pxd:14:35: Declarations should not be declared inline.\n    warning: pandas/_libs/src\\util.pxd:15:36: Declarations should not be declared inline.\n    warning: pandas/_libs/src\\util.pxd:16:30: Declarations should not be declared inline.\n    warning: pandas/_libs/src\\util.pxd:17:30: Declarations should not be declared inline.\n    warning: pandas/_libs/src\\util.pxd:18:30: Declarations should not be declared inline.\n    warning: pandas/_libs/src\\util.pxd:19:23: Declarations should not be declared inline.\n    warning: pandas/_libs/src\\util.pxd:20:16: Declarations should not be declared inline.\n    warning: pandas/_libs/src\\util.pxd:21:32: Declarations should not be declared inline.\n    warning: pandas/_libs/src\\util.pxd:22:38: Declarations should not be declared inline.\n    warning: pandas/_libs/src\\util.pxd:25:34: Declarations should not be declared inline.\n    warning: pandas/_libs/src\\khash.pxd:14:21: Declarations should not be declared inline.\n    warning: pandas/_libs/src\\khash.pxd:15:32: Declarations should not be declared inline.\n    warning: pandas/_libs/src\\khash.pxd:16:30: Declarations should not be declared inline.\n    warning: pandas/_libs/src\\khash.pxd:17:31: Declarations should not be declared inline.\n    warning: pandas/_libs/src\\khash.pxd:18:31: Declarations should not be declared inline.\n    warning: pandas/_libs/src\\khash.pxd:19:31: Declarations should not be declared inline.\n    warning: pandas/_libs/src\\khash.pxd:20:28: Declarations should not be declared inline.\n    warning: pandas/_libs/src\\khash.pxd:30:21: Declarations should not be declared inline.\n    warning: pandas/_libs/src\\khash.pxd:31:32: Declarations should not be declared inline.\n    warning: pandas/_libs/src\\khash.pxd:32:30: Declarations should not be declared inline.\n    warning: pandas/_libs/src\\khash.pxd:33:31: Declarations should not be declared inline.\n    warning: pandas/_libs/src\\khash.pxd:34:31: Declarations should not be declared inline.\n    warning: pandas/_libs/src\\khash.pxd:35:31: Declarations should not be declared inline.\n    warning: pandas/_libs/src\\khash.pxd:36:28: Declarations should not be declared inline.\n    warning: pandas/_libs/src\\khash.pxd:48:19: Declarations should not be declared inline.\n    warning: pandas/_libs/src\\khash.pxd:49:30: Declarations should not be declared inline.\n    warning: pandas/_libs/src\\khash.pxd:50:28: Declarations should not be declared inline.\n    warning: pandas/_libs/src\\khash.pxd:51:29: Declarations should not be declared inline.\n    warning: pandas/_libs/src\\khash.pxd:52:29: Declarations should not be declared inline.\n    warning: pandas/_libs/src\\khash.pxd:53:29: Declarations should not be declared inline.\n    warning: pandas/_libs/src\\khash.pxd:54:26: Declarations should not be declared inline.\n    warning: pandas/_libs/src\\khash.pxd:64:21: Declarations should not be declared inline.\n    warning: pandas/_libs/src\\khash.pxd:65:32: Declarations should not be declared inline.\n    warning: pandas/_libs/src\\khash.pxd:66:30: Declarations should not be declared inline.\n    warning: pandas/_libs/src\\khash.pxd:67:31: Declarations should not be declared inline.\n    warning: pandas/_libs/src\\khash.pxd:68:31: Declarations should not be declared inline.\n    warning: pandas/_libs/src\\khash.pxd:69:31: Declarations should not be declared inline.\n    warning: pandas/_libs/src\\khash.pxd:70:28: Declarations should not be declared inline.\n    warning: pandas/_libs/src\\khash.pxd:82:22: Declarations should not be declared inline.\n    warning: pandas/_libs/src\\khash.pxd:83:33: Declarations should not be declared inline.\n    warning: pandas/_libs/src\\khash.pxd:84:31: Declarations should not be declared inline.\n    warning: pandas/_libs/src\\khash.pxd:85:32: Declarations should not be declared inline.\n    warning: pandas/_libs/src\\khash.pxd:86:32: Declarations should not be declared inline.\n    warning: pandas/_libs/src\\khash.pxd:87:32: Declarations should not be declared inline.\n    warning: pandas/_libs/src\\khash.pxd:88:29: Declarations should not be declared inline.\n    warning: pandas/_libs/src\\khash.pxd:98:23: Declarations should not be declared inline.\n    warning: pandas/_libs/src\\khash.pxd:99:34: Declarations should not be declared inline.\n    warning: pandas/_libs/src\\khash.pxd:100:32: Declarations should not be declared inline.\n    warning: pandas/_libs/src\\khash.pxd:101:33: Declarations should not be declared inline.\n    warning: pandas/_libs/src\\khash.pxd:102:33: Declarations should not be declared inline.\n    warning: pandas/_libs/src\\khash.pxd:103:33: Declarations should not be declared inline.\n    warning: pandas/_libs/src\\khash.pxd:104:30: Declarations should not be declared inline.\n    warning: pandas/_libs/src\\khash.pxd:114:21: Declarations should not be declared inline.\n    warning: pandas/_libs/src\\khash.pxd:115:32: Declarations should not be declared inline.\n    warning: pandas/_libs/src\\khash.pxd:116:30: Declarations should not be declared inline.\n    warning: pandas/_libs/src\\khash.pxd:117:31: Declarations should not be declared inline.\n    warning: pandas/_libs/src\\khash.pxd:118:31: Declarations should not be declared inline.\n    warning: pandas/_libs/src\\khash.pxd:119:31: Declarations should not be declared inline.\n    warning: pandas/_libs/src\\khash.pxd:120:28: Declarations should not be declared inline.\n    warning: pandas/_libs/src\\khash.pxd:132:22: Declarations should not be declared inline.\n    warning: pandas/_libs/src\\khash.pxd:133:33: Declarations should not be declared inline.\n    warning: pandas/_libs/src\\khash.pxd:134:31: Declarations should not be declared inline.\n    warning: pandas/_libs/src\\khash.pxd:135:32: Declarations should not be declared inline.\n    warning: pandas/_libs/src\\khash.pxd:136:32: Declarations should not be declared inline.\n    warning: pandas/_libs/src\\khash.pxd:137:32: Declarations should not be declared inline.\n    warning: pandas/_libs/src\\khash.pxd:138:29: Declarations should not be declared inline.\n    warning: pandas\\_libs\\parsers.pyx:248:26: Declarations should not be declared inline.\n    warning: pandas\\_libs\\parsers.pyx:1729:34: Casting a GIL-requiring function into a nogil function circumvents GIL validation\n    cythoning pandas\\_libs/sparse.pyx to pandas\\_libs\\sparse.c\n    cythoning pandas\\_libs/testing.pyx to pandas\\_libs\\testing.c\n    cythoning pandas\\_libs/hashing.pyx to pandas\\_libs\\hashing.c\n    warning: pandas/_libs/src\\util.pxd:6:33: Declarations should not be declared inline.\n    warning: pandas/_libs/src\\util.pxd:7:40: Declarations should not be declared inline.\n    warning: pandas/_libs/src\\util.pxd:9:32: Declarations should not be declared inline.\n    warning: pandas/_libs/src\\util.pxd:10:30: Declarations should not be declared inline.\n    warning: pandas/_libs/src\\util.pxd:11:32: Declarations should not be declared inline.\n    warning: pandas/_libs/src\\util.pxd:12:29: Declarations should not be declared inline.\n    warning: pandas/_libs/src\\util.pxd:13:31: Declarations should not be declared inline.\n    warning: pandas/_libs/src\\util.pxd:14:35: Declarations should not be declared inline.\n    warning: pandas/_libs/src\\util.pxd:15:36: Declarations should not be declared inline.\n    warning: pandas/_libs/src\\util.pxd:16:30: Declarations should not be declared inline.\n    warning: pandas/_libs/src\\util.pxd:17:30: Declarations should not be declared inline.\n    warning: pandas/_libs/src\\util.pxd:18:30: Declarations should not be declared inline.\n    warning: pandas/_libs/src\\util.pxd:19:23: Declarations should not be declared inline.\n    warning: pandas/_libs/src\\util.pxd:20:16: Declarations should not be declared inline.\n    warning: pandas/_libs/src\\util.pxd:21:32: Declarations should not be declared inline.\n    warning: pandas/_libs/src\\util.pxd:22:38: Declarations should not be declared inline.\n    warning: pandas/_libs/src\\util.pxd:25:34: Declarations should not be declared inline.\n    warning: pandas\\_libs\\hashing.pyx:45:13: Non-trivial type declarators in shared declaration (e.g. mix of pointers and values). Each pointer declaration should be on its own line.\n    warning: pandas\\_libs\\hashing.pyx:45:21: Non-trivial type declarators in shared declaration (e.g. mix of pointers and values). Each pointer declaration should be on its own line.\n    cythoning pandas\\io/sas/sas.pyx to pandas\\io/sas\\sas.c\n    skipping &#39;pandas\\io/msgpack\\_packer.cpp&#39; Cython extension (up-to-date)\n    skipping &#39;pandas\\io/msgpack\\_unpacker.cpp&#39; Cython extension (up-to-date)\n    building &#39;pandas._libs.lib&#39; extension\n    error: Microsoft Visual C++ 14.0 is required. Get it with &quot;Build Tools for Visual Studio&quot;: https://visualstudio.microsoft.com/downloads/\n    ----------------------------------------\nERROR: Command errored out with exit status 1: &#39;D:\\SOFTWARE\\Anaconda\\python.exe&#39; -u -c &#39;import sys, setuptools, tokenize; sys.argv[0] = &#39;&quot;&#39;&quot;&#39;C:\\\\Users\\\\victo\\\\AppData\\\\Local\\\\Temp\\\\pip-install-h5n5a4pn\\\\pandas\\\\setup.py&#39;&quot;&#39;&quot;&#39;; __file__=&#39;&quot;&#39;&quot;&#39;C:\\\\Users\\\\victo\\\\AppData\\\\Local\\\\Temp\\\\pip-install-h5n5a4pn\\\\pandas\\\\setup.py&#39;&quot;&#39;&quot;&#39;;f=getattr(tokenize, &#39;&quot;&#39;&quot;&#39;open&#39;&quot;&#39;&quot;&#39;, open)(__file__);code=f.read().replace(&#39;&quot;&#39;&quot;&#39;\\r\\n&#39;&quot;&#39;&quot;&#39;, &#39;&quot;&#39;&quot;&#39;\\n&#39;&quot;&#39;&quot;&#39;);f.close();exec(compile(code, __file__, &#39;&quot;&#39;&quot;&#39;exec&#39;&quot;&#39;&quot;&#39;))&#39; install --record &#39;C:\\Users\\victo\\AppData\\Local\\Temp\\pip-record-2yy0nfv_\\install-record.txt&#39; --single-version-externally-managed --compile --install-headers &#39;D:\\SOFTWARE\\Anaconda\\Include\\pandas&#39; Check the logs for full command output.\n"
        }
      ]
    },
    {
      "metadata": {
        "trusted": true
      },
      "cell_type": "code",
      "source": [
        "%matplotlib inline"
      ],
      "execution_count": null,
      "outputs": []
    },
    {
      "metadata": {},
      "cell_type": "markdown",
      "source": [
        "# Data"
      ]
    },
    {
      "metadata": {},
      "cell_type": "markdown",
      "source": [
        "- Use `load_nyc_taxi_data` to get the data.\n",
        "- Use `preview` to preview the data.\n",
        "- Create a histogram of the `trip_duration` column of the `trips` table."
      ]
    },
    {
      "metadata": {
        "trusted": true
      },
      "cell_type": "code",
      "source": [
        "# Your code here to load, preview and visualize data"
      ],
      "execution_count": null,
      "outputs": []
    },
    {
      "metadata": {},
      "cell_type": "markdown",
      "source": [
        "<h1 style=\"color:red;\">QUESTION 1: DATA ANALYSIS</h1>"
      ]
    },
    {
      "metadata": {},
      "cell_type": "markdown",
      "source": [
        "**Describe the dataset. How many trips are in the dataset? How would you describe the distribution of trip durations? Is there anything else we should observe? Make sure the histogram is visible in the notebook.**"
      ]
    },
    {
      "metadata": {},
      "cell_type": "markdown",
      "source": [
        "*Type your response here...*"
      ]
    },
    {
      "metadata": {},
      "cell_type": "markdown",
      "source": [
        "# Entities and Relationships"
      ]
    },
    {
      "metadata": {},
      "cell_type": "markdown",
      "source": [
        "Construct a dictionary of entities and relationships. You can read about the format of these objects [`here`](https://docs.featuretools.com/en/stable/generated/featuretools.dfs.html)."
      ]
    },
    {
      "metadata": {
        "trusted": true
      },
      "cell_type": "code",
      "source": [
        "# Construct entities and relationships dicts"
      ],
      "execution_count": null,
      "outputs": []
    },
    {
      "metadata": {},
      "cell_type": "markdown",
      "source": [
        "# Transform Primitives"
      ]
    },
    {
      "metadata": {
        "trusted": true
      },
      "cell_type": "code",
      "source": [
        "# Make list of transform primtivies that only contains the Weekend object from above"
      ],
      "execution_count": null,
      "outputs": []
    },
    {
      "metadata": {
        "trusted": true
      },
      "cell_type": "code",
      "source": [
        "# Then, use featuretools.dfs to get the features\n",
        "# See https://docs.featuretools.com/generated/featuretools.dfs.html\n",
        "# target entity should match name for trips entity in your entities dictionary\n",
        "# no agg_primitives yet\n",
        "# ignore the lat/long for dropoff and pickup"
      ],
      "execution_count": null,
      "outputs": []
    },
    {
      "metadata": {
        "trusted": true
      },
      "cell_type": "code",
      "source": [
        "# Print out the features you just made"
      ],
      "execution_count": null,
      "outputs": []
    },
    {
      "metadata": {
        "trusted": true
      },
      "cell_type": "code",
      "source": [
        "# Use compute_features to get the feature matrix from the list of features you just made"
      ],
      "execution_count": null,
      "outputs": []
    },
    {
      "metadata": {},
      "cell_type": "markdown",
      "source": [
        "# First Model"
      ]
    },
    {
      "metadata": {
        "trusted": true
      },
      "cell_type": "code",
      "source": [
        "# Split feature matrix (75% train, 25% test) using utils.train_test_fm\n",
        "# Pass in features, trips dataframe, and fraction train (0.75)"
      ],
      "execution_count": null,
      "outputs": []
    },
    {
      "metadata": {
        "trusted": true
      },
      "cell_type": "code",
      "source": [
        "# Use np.log(x + 1) to take the log of a particular vector x - this helps create a more linear relationship"
      ],
      "execution_count": null,
      "outputs": []
    },
    {
      "metadata": {
        "trusted": true
      },
      "cell_type": "code",
      "source": [
        "# Then, create a GradientBoostingRegressor\n",
        "# Fit to training\n",
        "# Score on testing"
      ],
      "execution_count": null,
      "outputs": []
    },
    {
      "metadata": {},
      "cell_type": "markdown",
      "source": [
        "<h1 style=\"color:red;\">QUESTION 2: FIRST MODEL</h1>"
      ]
    },
    {
      "metadata": {},
      "cell_type": "markdown",
      "source": [
        "**Describe all the features that we added to the model. Do you think these improved the performance from a model that did not have these features? Why?**"
      ]
    },
    {
      "metadata": {},
      "cell_type": "markdown",
      "source": [
        "*Type your response here...*"
      ]
    },
    {
      "metadata": {},
      "cell_type": "markdown",
      "source": [
        "# More Transform Primitives"
      ]
    },
    {
      "metadata": {
        "trusted": true
      },
      "cell_type": "code",
      "source": [
        "# Make list of transform primtivies that contain new primitives described in the instruction manual"
      ],
      "execution_count": null,
      "outputs": []
    },
    {
      "metadata": {
        "trusted": true
      },
      "cell_type": "code",
      "source": [
        "# Compute features"
      ],
      "execution_count": null,
      "outputs": []
    },
    {
      "metadata": {
        "trusted": true
      },
      "cell_type": "code",
      "source": [
        "# Compute feature matrix"
      ],
      "execution_count": null,
      "outputs": []
    },
    {
      "metadata": {
        "trusted": true
      },
      "cell_type": "code",
      "source": [
        "# Re-split feature matrix"
      ],
      "execution_count": null,
      "outputs": []
    },
    {
      "metadata": {
        "trusted": true
      },
      "cell_type": "code",
      "source": [
        "# Train and score NEW model"
      ],
      "execution_count": null,
      "outputs": []
    },
    {
      "metadata": {},
      "cell_type": "markdown",
      "source": [
        "<h1 style=\"color:red;\">QUESTION 3: SECOND MODEL</h1>"
      ]
    },
    {
      "metadata": {},
      "cell_type": "markdown",
      "source": [
        "**Describe the rest of the new features that we just added to the model. How did this affect performance? Did we have to sacrifice training time?**"
      ]
    },
    {
      "metadata": {},
      "cell_type": "markdown",
      "source": [
        "*Type your response here...*"
      ]
    },
    {
      "metadata": {},
      "cell_type": "markdown",
      "source": [
        "# Aggregation Primitives"
      ]
    },
    {
      "metadata": {
        "trusted": true
      },
      "cell_type": "code",
      "source": [
        "# Make list of transform primtivies that are the same as above\n",
        "# Make a list of aggregation primitives containing Count, Sum, Mean, Median, Std, Max, Min"
      ],
      "execution_count": null,
      "outputs": []
    },
    {
      "metadata": {
        "trusted": true
      },
      "cell_type": "code",
      "source": [
        "# Compute features"
      ],
      "execution_count": null,
      "outputs": []
    },
    {
      "metadata": {
        "trusted": true
      },
      "cell_type": "code",
      "source": [
        "# Compute feature matrix"
      ],
      "execution_count": null,
      "outputs": []
    },
    {
      "metadata": {
        "trusted": true
      },
      "cell_type": "code",
      "source": [
        "# Re-split feature matrix"
      ],
      "execution_count": null,
      "outputs": []
    },
    {
      "metadata": {
        "trusted": true
      },
      "cell_type": "code",
      "source": [
        "# Train and score NEW model"
      ],
      "execution_count": null,
      "outputs": []
    },
    {
      "metadata": {},
      "cell_type": "markdown",
      "source": [
        "# Evaluate on Test Data"
      ]
    },
    {
      "metadata": {
        "trusted": true
      },
      "cell_type": "code",
      "source": [
        "# Use .predict() function on your latest model to get y_pred from X_test"
      ],
      "execution_count": null,
      "outputs": []
    },
    {
      "metadata": {
        "trusted": true
      },
      "cell_type": "code",
      "source": [
        "# Print some of the predictions"
      ],
      "execution_count": null,
      "outputs": []
    },
    {
      "metadata": {
        "trusted": true
      },
      "cell_type": "code",
      "source": [
        "# Create histogram of predictions"
      ],
      "execution_count": null,
      "outputs": []
    },
    {
      "metadata": {},
      "cell_type": "markdown",
      "source": [
        "<h1 style=\"color:red;\">QUESTION 4: MODEL PREDICTIONS</h1>"
      ]
    },
    {
      "metadata": {},
      "cell_type": "markdown",
      "source": [
        "**Analyze the model predictions. Does the output distribution match the one you made earlier in the case study? What other features/strategies could we use to make our model even better, if we had more time?**"
      ]
    },
    {
      "metadata": {},
      "cell_type": "markdown",
      "source": [
        "*Type your response here...*"
      ]
    },
    {
      "metadata": {},
      "cell_type": "markdown",
      "source": [
        "# Feature Importance"
      ]
    },
    {
      "metadata": {
        "trusted": true
      },
      "cell_type": "code",
      "source": [
        "# Compute feature importance of model\n",
        "# You can use the feature_importances function we defined for you\n",
        "# Or, see the feature_importances_ attribute of our model\n",
        "# http://scikit-learn.org/stable/modules/generated/sklearn.ensemble.GradientBoostingRegressor.html"
      ],
      "execution_count": null,
      "outputs": []
    },
    {
      "metadata": {},
      "cell_type": "markdown",
      "source": [
        "<h1 style=\"color:red;\">QUESTION 5: FEATURE IMPORTANCE</h1>"
      ]
    },
    {
      "metadata": {},
      "cell_type": "markdown",
      "source": [
        "**Analyze the feature importance values you just computed above. Do they make sense? Are there any values you are surprised by? Give some brief explanations as to why these features are relevant in computing the `trip_duration` target variable.**"
      ]
    },
    {
      "metadata": {},
      "cell_type": "markdown",
      "source": [
        "*Type your response here...*"
      ]
    },
    {
      "metadata": {},
      "cell_type": "markdown",
      "source": [
        "<hr>"
      ]
    },
    {
      "metadata": {},
      "cell_type": "markdown",
      "source": [
        "Great job! Now, make sure you check out the **Conclusion** section of the [instruction manual](https://courses.edx.org/asset-v1:MITxPRO+DSx+2T2018+type@asset+block@6.1_instruction_manual.html) to wrap up this case study properly."
      ]
    }
  ],
  "metadata": {
    "kernelspec": {
      "name": "Python 3.8.3 64-bit ('base': conda)",
      "display_name": "Python 3.8.3 64-bit ('base': conda)",
      "metadata": {
        "interpreter": {
          "hash": "f1295315a74d9b8eac26d61941518dc109bab80d0e7f9a8edac479e631de8a31"
        }
      }
    },
    "language_info": {
      "mimetype": "text/x-python",
      "nbconvert_exporter": "python",
      "name": "python",
      "pygments_lexer": "ipython3",
      "version": "3.8.3-final",
      "file_extension": ".py",
      "codemirror_mode": {
        "version": 3,
        "name": "ipython"
      }
    }
  },
  "nbformat": 4,
  "nbformat_minor": 2
}